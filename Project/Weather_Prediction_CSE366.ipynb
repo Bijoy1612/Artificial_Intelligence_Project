{
  "nbformat": 4,
  "nbformat_minor": 0,
  "metadata": {
    "colab": {
      "name": "Weather Prediction CSE366.ipynb",
      "provenance": [],
      "collapsed_sections": []
    },
    "kernelspec": {
      "name": "python3",
      "display_name": "Python 3"
    },
    "language_info": {
      "name": "python"
    }
  },
  "cells": [
    {
      "cell_type": "markdown",
      "metadata": {
        "id": "UWO3bfwRWLlC"
      },
      "source": [
        "**Weather Prediction using Random Forest Algorithm**\n",
        "\n",
        "\n",
        "\n"
      ]
    },
    {
      "cell_type": "code",
      "metadata": {
        "id": "kjVM7ObWPZXH"
      },
      "source": [
        ""
      ],
      "execution_count": null,
      "outputs": []
    },
    {
      "cell_type": "markdown",
      "metadata": {
        "id": "KoqmzTBrPUFg"
      },
      "source": [
        "**Imports**"
      ]
    },
    {
      "cell_type": "code",
      "metadata": {
        "id": "K9MGz7wYWZnr"
      },
      "source": [
        "import numpy as np\n",
        "import pandas as pd\n",
        "from sklearn.linear_model import LinearRegression\n",
        "from pandas import DataFrame, Series\n",
        "from sklearn.model_selection import train_test_split\n",
        "from IPython.display import Image \n",
        "import io\n",
        "from sklearn import tree\n",
        "import pydotplus\n",
        "from sklearn import preprocessing\n",
        "from sklearn.ensemble import RandomForestClassifier\n",
        "from sklearn.tree import export_graphviz\n",
        "from sklearn.metrics import plot_confusion_matrix\n",
        "import matplotlib.pyplot as plt\n",
        "import graphviz\n",
        "import pydotplus\n",
        "import io\n",
        "from scipy import misc\n",
        "%matplotlib inline"
      ],
      "execution_count": 18,
      "outputs": []
    },
    {
      "cell_type": "markdown",
      "metadata": {
        "id": "M1kPFP9ULEyb"
      },
      "source": [
        "**Reading Dataset**\n",
        "\n",
        "Using 'Pandas' we are reading the dataset. The dataset is collected from kaggle. It contains weather history of Bangladesh from 1901 to 2015. It consists four column [tem, Month, Year, rain] and 1380 Rows."
      ]
    },
    {
      "cell_type": "code",
      "metadata": {
        "colab": {
          "base_uri": "https://localhost:8080/"
        },
        "id": "hh1CPbKXXq3D",
        "outputId": "5ea31014-f6f5-4415-8f69-453f605f0d46"
      },
      "source": [
        "data = pd.read_csv('Temp_and_rain.csv')\n",
        "print(data.head(3), '\\n...\\n...\\n...\\n',data.tail(2))\n"
      ],
      "execution_count": 19,
      "outputs": [
        {
          "output_type": "stream",
          "text": [
            "       tem  Month  Year     rain\n",
            "0  16.9760      1  1901  18.5356\n",
            "1  19.9026      2  1901  16.2548\n",
            "2  24.3158      3  1901  70.7981 \n",
            "...\n",
            "...\n",
            "...\n",
            "           tem  Month  Year     rain\n",
            "1378  23.1842     11  2015  4.60815\n",
            "1379  18.7124     12  2015  5.97798\n"
          ],
          "name": "stdout"
        }
      ]
    },
    {
      "cell_type": "markdown",
      "metadata": {
        "id": "rNoBF7n6KzRL"
      },
      "source": [
        "**Created two separate list**\n",
        "\n",
        "Two list created temp and rain containing temperature data and rainfall data. These two will be used to calculate weather type."
      ]
    },
    {
      "cell_type": "code",
      "metadata": {
        "id": "Pc41rWa3Z3o7"
      },
      "source": [
        "temp = data['tem']\n",
        "rain = data['rain']"
      ],
      "execution_count": 20,
      "outputs": []
    },
    {
      "cell_type": "markdown",
      "metadata": {
        "id": "WwymcZbTKVtt"
      },
      "source": [
        "**Creating categorical values**\n",
        "\n",
        "Bangladesh's climate is **Tropican Savanna** region. According to **Kopper classification**. **Average Temperature** is around **18°C to 29°C** per year. **Average Rainfall** is around **750 mm to 1270 mm** per year. We slightly changed the parameters and created a few categories. "
      ]
    },
    {
      "cell_type": "code",
      "metadata": {
        "id": "HvfKXK0fX4Nt",
        "colab": {
          "base_uri": "https://localhost:8080/"
        },
        "outputId": "63f5fc50-8fc0-4e30-ee5b-6110cc1d058d"
      },
      "source": [
        "weather = []\n",
        "for t,r in zip(temp, rain):\n",
        "  if t >=18 and t <=25:\n",
        "    if r >=63 and r<=105:\n",
        "      weather.append('Normal Normal')\n",
        "    elif r >105 :\n",
        "      weather.append('Normal Wet')\n",
        "    elif r <63:\n",
        "      weather.append('Normal Dry')\n",
        "  elif t<18:\n",
        "    if r >=16.5 and r<=17.5:\n",
        "      weather.append('Cold Normal')\n",
        "    elif r >17.5 :\n",
        "      weather.append('Cold Wet')\n",
        "    elif r <16.5:\n",
        "      weather.append('Cold Dry')\n",
        "  elif t>25:\n",
        "    if r >=63 and r<=105:\n",
        "      weather.append('Warm Normal')\n",
        "    elif r >105 :\n",
        "      weather.append('Warm Wet')\n",
        "    elif r <63:\n",
        "      weather.append('Warm Dry')\n",
        "print('Size of weather:',len(weather))"
      ],
      "execution_count": 21,
      "outputs": [
        {
          "output_type": "stream",
          "text": [
            "Size of weather: 1380\n"
          ],
          "name": "stdout"
        }
      ]
    },
    {
      "cell_type": "markdown",
      "metadata": {
        "id": "kZUukSRdMW-H"
      },
      "source": [
        "**Creating 'Weather' column**\n",
        "\n",
        "As we have already made a list of categorical values, we added a column using the list in our dataset."
      ]
    },
    {
      "cell_type": "code",
      "metadata": {
        "colab": {
          "base_uri": "https://localhost:8080/",
          "height": 195
        },
        "id": "KsfO288La79P",
        "outputId": "4e834e57-6c23-4119-f85a-d9c44d914e9a"
      },
      "source": [
        "data['weather'] = weather\n",
        "data.head()"
      ],
      "execution_count": 22,
      "outputs": [
        {
          "output_type": "execute_result",
          "data": {
            "text/html": [
              "<div>\n",
              "<style scoped>\n",
              "    .dataframe tbody tr th:only-of-type {\n",
              "        vertical-align: middle;\n",
              "    }\n",
              "\n",
              "    .dataframe tbody tr th {\n",
              "        vertical-align: top;\n",
              "    }\n",
              "\n",
              "    .dataframe thead th {\n",
              "        text-align: right;\n",
              "    }\n",
              "</style>\n",
              "<table border=\"1\" class=\"dataframe\">\n",
              "  <thead>\n",
              "    <tr style=\"text-align: right;\">\n",
              "      <th></th>\n",
              "      <th>tem</th>\n",
              "      <th>Month</th>\n",
              "      <th>Year</th>\n",
              "      <th>rain</th>\n",
              "      <th>weather</th>\n",
              "    </tr>\n",
              "  </thead>\n",
              "  <tbody>\n",
              "    <tr>\n",
              "      <th>0</th>\n",
              "      <td>16.9760</td>\n",
              "      <td>1</td>\n",
              "      <td>1901</td>\n",
              "      <td>18.5356</td>\n",
              "      <td>Cold Wet</td>\n",
              "    </tr>\n",
              "    <tr>\n",
              "      <th>1</th>\n",
              "      <td>19.9026</td>\n",
              "      <td>2</td>\n",
              "      <td>1901</td>\n",
              "      <td>16.2548</td>\n",
              "      <td>Normal Dry</td>\n",
              "    </tr>\n",
              "    <tr>\n",
              "      <th>2</th>\n",
              "      <td>24.3158</td>\n",
              "      <td>3</td>\n",
              "      <td>1901</td>\n",
              "      <td>70.7981</td>\n",
              "      <td>Normal Normal</td>\n",
              "    </tr>\n",
              "    <tr>\n",
              "      <th>3</th>\n",
              "      <td>28.1834</td>\n",
              "      <td>4</td>\n",
              "      <td>1901</td>\n",
              "      <td>66.1616</td>\n",
              "      <td>Warm Normal</td>\n",
              "    </tr>\n",
              "    <tr>\n",
              "      <th>4</th>\n",
              "      <td>27.8892</td>\n",
              "      <td>5</td>\n",
              "      <td>1901</td>\n",
              "      <td>267.2150</td>\n",
              "      <td>Warm Wet</td>\n",
              "    </tr>\n",
              "  </tbody>\n",
              "</table>\n",
              "</div>"
            ],
            "text/plain": [
              "       tem  Month  Year      rain        weather\n",
              "0  16.9760      1  1901   18.5356       Cold Wet\n",
              "1  19.9026      2  1901   16.2548     Normal Dry\n",
              "2  24.3158      3  1901   70.7981  Normal Normal\n",
              "3  28.1834      4  1901   66.1616    Warm Normal\n",
              "4  27.8892      5  1901  267.2150       Warm Wet"
            ]
          },
          "metadata": {
            "tags": []
          },
          "execution_count": 22
        }
      ]
    },
    {
      "cell_type": "markdown",
      "metadata": {
        "id": "aFp9wZuoMrB_"
      },
      "source": [
        "**Viewing number of data per category**"
      ]
    },
    {
      "cell_type": "code",
      "metadata": {
        "colab": {
          "base_uri": "https://localhost:8080/"
        },
        "id": "bliVaFz5dfSf",
        "outputId": "c82c7382-964e-4523-f6fe-0831669fdd7c"
      },
      "source": [
        "print('Number of Normal Normal Weather: ',data[['weather']].query(\"weather == 'Normal Normal'\").count())\n",
        "print('Number of Normal Wet Weather: ',data[['weather']].query(\"weather == 'Normal Wet'\").count())\n",
        "print('Number of Normal Dry Weahter: ',data[['weather']].query(\"weather == 'Normal Dry'\").count())\n",
        "\n",
        "print('Number of Cold Normal Weather: ',data[['weather']].query(\"weather == 'Cold Normal'\").count())\n",
        "print('Number of Cold Wet Weather: ',data[['weather']].query(\"weather == 'Cold Wet'\").count())\n",
        "print('Number of Cold Dry Weahter: ',data[['weather']].query(\"weather == 'Cold Dry'\").count())\n",
        "\n",
        "print('Number of Warm Normal Weather: ',data[['weather']].query(\"weather == 'Warm Normal'\").count())\n",
        "print('Number of Warm Wet Weather: ',data[['weather']].query(\"weather == 'Warm Wet'\").count())\n",
        "print('Number of Warm Dry Weahter: ',data[['weather']].query(\"weather == 'Warm Dry'\").count())"
      ],
      "execution_count": 23,
      "outputs": [
        {
          "output_type": "stream",
          "text": [
            "Number of Normal Normal Weather:  weather    24\n",
            "dtype: int64\n",
            "Number of Normal Wet Weather:  weather    13\n",
            "dtype: int64\n",
            "Number of Normal Dry Weahter:  weather    424\n",
            "dtype: int64\n",
            "Number of Cold Normal Weather:  weather    1\n",
            "dtype: int64\n",
            "Number of Cold Wet Weather:  weather    5\n",
            "dtype: int64\n",
            "Number of Cold Dry Weahter:  weather    43\n",
            "dtype: int64\n",
            "Number of Warm Normal Weather:  weather    57\n",
            "dtype: int64\n",
            "Number of Warm Wet Weather:  weather    741\n",
            "dtype: int64\n",
            "Number of Warm Dry Weahter:  weather    72\n",
            "dtype: int64\n"
          ],
          "name": "stdout"
        }
      ]
    },
    {
      "cell_type": "markdown",
      "metadata": {
        "id": "-wqO105iM2P2"
      },
      "source": [
        "**Making the 'features' list:**"
      ]
    },
    {
      "cell_type": "code",
      "metadata": {
        "id": "6OIvzL2ret4t"
      },
      "source": [
        "features = data.columns\n",
        "features = [x for x in features if x != 'weather']\n",
        "features\n",
        "class_names = ['Normal Normal', 'Normal Wet', 'Normal Dry', 'Cold Normal', 'Cold Wet', 'Cold Dry', 'Warm Normal', 'Warm Wet', 'Warm Dry']"
      ],
      "execution_count": 24,
      "outputs": []
    },
    {
      "cell_type": "markdown",
      "metadata": {
        "id": "BveaJCbZNCdL"
      },
      "source": [
        "**Splitting data in Train and test sets:**\n",
        "\n",
        "For training the model and testing it, data is split in 80:20 ratio among train and test sets. We can view the number data in train and test set.\n",
        "\n"
      ]
    },
    {
      "cell_type": "code",
      "metadata": {
        "colab": {
          "base_uri": "https://localhost:8080/"
        },
        "id": "fw-MKNWZe_sY",
        "outputId": "0313b552-50f4-4f6e-8a8a-87e990fd2a56"
      },
      "source": [
        "train, test = train_test_split(data, test_size = 0.20, shuffle = 'True')\n",
        "print('Total Data: ', len(data))\n",
        "print('Data in Train Set: ',len(train))\n",
        "print('Data in Test Set: ',len(test))"
      ],
      "execution_count": 25,
      "outputs": [
        {
          "output_type": "stream",
          "text": [
            "Total Data:  1380\n",
            "Data in Train Set:  1104\n",
            "Data in Test Set:  276\n"
          ],
          "name": "stdout"
        }
      ]
    },
    {
      "cell_type": "markdown",
      "metadata": {
        "id": "6S6H66IKN9kO"
      },
      "source": [
        "**Creating x_train, y_train, x_test, y_test datasets:**"
      ]
    },
    {
      "cell_type": "code",
      "metadata": {
        "id": "OqsN7Ss_fHLY"
      },
      "source": [
        "x_train = train[features]\n",
        "y_train = train[\"weather\"]\n",
        "\n",
        "x_test = test[features]\n",
        "y_test = test[\"weather\"]"
      ],
      "execution_count": 26,
      "outputs": []
    },
    {
      "cell_type": "markdown",
      "metadata": {
        "id": "OIkE_KBrNuIg"
      },
      "source": [
        "**Applying Random Forest:**\n",
        "\n",
        "Random Forest is used. Number of estimators is 80, max depth = 4 and random state is set to 0"
      ]
    },
    {
      "cell_type": "code",
      "metadata": {
        "id": "3Cb6cOH2fE5m"
      },
      "source": [
        "RF = RandomForestClassifier(n_estimators=80, max_depth= 4, random_state=0)"
      ],
      "execution_count": 9,
      "outputs": []
    },
    {
      "cell_type": "markdown",
      "metadata": {
        "id": "aTnoMKYTOJcU"
      },
      "source": [
        "**Fitting the Random Forest Model:**"
      ]
    },
    {
      "cell_type": "code",
      "metadata": {
        "id": "JL580UlsfJvC"
      },
      "source": [
        "RF = RF.fit(x_train, y_train)"
      ],
      "execution_count": 11,
      "outputs": []
    },
    {
      "cell_type": "markdown",
      "metadata": {
        "id": "OE36iPoEONNs"
      },
      "source": [
        "**Prediction the value of y using Random Forest Model:**\n",
        "\n",
        "*   List item\n",
        "*   List item\n",
        "\n"
      ]
    },
    {
      "cell_type": "code",
      "metadata": {
        "id": "IfpvVFGrfNPA"
      },
      "source": [
        "y_pred = RF.predict(x_test)"
      ],
      "execution_count": 12,
      "outputs": []
    },
    {
      "cell_type": "markdown",
      "metadata": {
        "id": "fxOBb6cHOclo"
      },
      "source": [
        "**We can see the predicted data here:**"
      ]
    },
    {
      "cell_type": "code",
      "metadata": {
        "colab": {
          "base_uri": "https://localhost:8080/"
        },
        "id": "hMcXZOxGfNn1",
        "outputId": "2a3bd218-5b34-4c51-8ea4-32c4567d8f55"
      },
      "source": [
        "print('Prediction data:\\n', y_pred)"
      ],
      "execution_count": 13,
      "outputs": [
        {
          "output_type": "stream",
          "text": [
            "Prediction data:\n",
            " ['Warm Wet' 'Warm Dry' 'Normal Dry' 'Warm Normal' 'Normal Dry'\n",
            " 'Normal Dry' 'Warm Wet' 'Warm Wet' 'Normal Dry' 'Normal Dry' 'Normal Dry'\n",
            " 'Warm Wet' 'Cold Dry' 'Warm Wet' 'Warm Wet' 'Normal Dry' 'Warm Wet'\n",
            " 'Warm Wet' 'Warm Wet' 'Normal Wet' 'Warm Wet' 'Warm Wet' 'Warm Wet'\n",
            " 'Normal Dry' 'Warm Wet' 'Warm Wet' 'Warm Wet' 'Warm Wet' 'Warm Wet'\n",
            " 'Warm Wet' 'Normal Dry' 'Warm Wet' 'Warm Wet' 'Normal Dry' 'Normal Wet'\n",
            " 'Normal Dry' 'Warm Wet' 'Warm Wet' 'Warm Wet' 'Warm Wet' 'Warm Wet'\n",
            " 'Warm Wet' 'Warm Wet' 'Warm Wet' 'Warm Wet' 'Normal Dry' 'Warm Wet'\n",
            " 'Warm Wet' 'Normal Dry' 'Warm Wet' 'Normal Dry' 'Normal Dry' 'Warm Wet'\n",
            " 'Normal Wet' 'Warm Wet' 'Warm Wet' 'Warm Wet' 'Warm Wet' 'Warm Dry'\n",
            " 'Warm Wet' 'Warm Wet' 'Normal Dry' 'Warm Wet' 'Normal Dry' 'Warm Wet'\n",
            " 'Normal Dry' 'Normal Dry' 'Warm Wet' 'Warm Wet' 'Warm Wet' 'Normal Dry'\n",
            " 'Warm Wet' 'Warm Wet' 'Normal Dry' 'Warm Dry' 'Warm Dry' 'Warm Wet'\n",
            " 'Warm Wet' 'Normal Dry' 'Cold Dry' 'Warm Wet' 'Warm Wet' 'Warm Wet'\n",
            " 'Warm Normal' 'Warm Wet' 'Warm Wet' 'Warm Dry' 'Normal Dry' 'Warm Wet'\n",
            " 'Normal Dry' 'Normal Dry' 'Warm Wet' 'Warm Wet' 'Warm Wet' 'Normal Dry'\n",
            " 'Warm Wet' 'Warm Normal' 'Warm Wet' 'Warm Wet' 'Warm Wet' 'Warm Wet'\n",
            " 'Warm Normal' 'Normal Dry' 'Normal Dry' 'Normal Dry' 'Warm Wet'\n",
            " 'Warm Wet' 'Warm Normal' 'Warm Wet' 'Warm Wet' 'Warm Wet' 'Warm Wet'\n",
            " 'Warm Wet' 'Warm Wet' 'Warm Wet' 'Normal Dry' 'Warm Wet' 'Normal Dry'\n",
            " 'Warm Wet' 'Warm Wet' 'Normal Dry' 'Warm Wet' 'Warm Wet' 'Warm Dry'\n",
            " 'Normal Dry' 'Normal Dry' 'Warm Wet' 'Warm Wet' 'Cold Dry' 'Warm Wet'\n",
            " 'Warm Wet' 'Normal Dry' 'Normal Dry' 'Normal Dry' 'Warm Dry' 'Warm Wet'\n",
            " 'Warm Wet' 'Warm Dry' 'Warm Normal' 'Normal Dry' 'Normal Dry'\n",
            " 'Normal Dry' 'Warm Wet' 'Normal Dry' 'Normal Dry' 'Normal Dry' 'Warm Wet'\n",
            " 'Warm Wet' 'Normal Dry' 'Normal Dry' 'Normal Dry' 'Normal Dry'\n",
            " 'Normal Normal' 'Warm Wet' 'Warm Wet' 'Warm Wet' 'Normal Dry'\n",
            " 'Normal Dry' 'Warm Wet' 'Warm Wet' 'Warm Wet' 'Warm Wet' 'Normal Dry'\n",
            " 'Normal Dry' 'Warm Wet' 'Normal Dry' 'Warm Wet' 'Normal Dry' 'Warm Wet'\n",
            " 'Warm Wet' 'Cold Dry' 'Warm Wet' 'Warm Wet' 'Normal Dry' 'Warm Wet'\n",
            " 'Warm Wet' 'Warm Wet' 'Warm Wet' 'Warm Dry' 'Warm Wet' 'Normal Dry'\n",
            " 'Normal Dry' 'Warm Dry' 'Warm Wet' 'Normal Dry' 'Warm Wet' 'Warm Wet'\n",
            " 'Warm Normal' 'Warm Wet' 'Normal Dry' 'Warm Wet' 'Normal Dry' 'Cold Dry'\n",
            " 'Warm Wet' 'Warm Wet' 'Warm Wet' 'Warm Wet' 'Normal Dry' 'Warm Wet'\n",
            " 'Normal Dry' 'Warm Wet' 'Normal Dry' 'Warm Wet' 'Warm Wet' 'Normal Dry'\n",
            " 'Normal Dry' 'Warm Wet' 'Warm Wet' 'Warm Wet' 'Normal Dry' 'Warm Wet'\n",
            " 'Warm Wet' 'Normal Dry' 'Warm Wet' 'Normal Dry' 'Warm Normal'\n",
            " 'Normal Dry' 'Warm Wet' 'Warm Normal' 'Warm Dry' 'Warm Wet' 'Warm Wet'\n",
            " 'Normal Dry' 'Warm Normal' 'Normal Normal' 'Normal Dry' 'Normal Dry'\n",
            " 'Warm Wet' 'Warm Dry' 'Normal Dry' 'Normal Dry' 'Warm Dry' 'Normal Dry'\n",
            " 'Normal Dry' 'Warm Wet' 'Cold Dry' 'Warm Wet' 'Warm Wet' 'Normal Dry'\n",
            " 'Normal Dry' 'Warm Wet' 'Warm Normal' 'Warm Wet' 'Warm Wet' 'Warm Wet'\n",
            " 'Normal Dry' 'Warm Wet' 'Warm Wet' 'Warm Wet' 'Normal Dry' 'Warm Wet'\n",
            " 'Warm Wet' 'Normal Dry' 'Normal Dry' 'Warm Wet' 'Warm Wet' 'Warm Dry'\n",
            " 'Warm Wet' 'Normal Dry' 'Warm Wet' 'Warm Wet' 'Normal Dry' 'Warm Wet'\n",
            " 'Warm Normal' 'Normal Dry' 'Warm Wet' 'Normal Dry' 'Warm Wet' 'Warm Wet'\n",
            " 'Normal Dry' 'Warm Wet' 'Normal Wet' 'Warm Wet' 'Warm Normal'\n",
            " 'Normal Dry' 'Normal Dry']\n"
          ],
          "name": "stdout"
        }
      ]
    },
    {
      "cell_type": "markdown",
      "metadata": {
        "id": "lP1RuCpIOj_Z"
      },
      "source": [
        "**Calcultaing Accuracy of the model:**"
      ]
    },
    {
      "cell_type": "code",
      "metadata": {
        "colab": {
          "base_uri": "https://localhost:8080/"
        },
        "id": "dM-g0IiufQ6l",
        "outputId": "c282914c-9663-4c9d-eb49-19555b9e3b54"
      },
      "source": [
        "from sklearn.metrics import accuracy_score\n",
        "score = accuracy_score(y_test, y_pred) * 100\n",
        "print(\"Accuracy using Random Forest Classifier: \", round(score, 1), \"%\" )"
      ],
      "execution_count": 14,
      "outputs": [
        {
          "output_type": "stream",
          "text": [
            "Accuracy using Random Forest Classifier:  99.6 %\n"
          ],
          "name": "stdout"
        }
      ]
    },
    {
      "cell_type": "markdown",
      "metadata": {
        "id": "E0z_Lm04OsGi"
      },
      "source": [
        "**Confusing Matrix:**\n",
        "\n",
        "Here we see that Hot and Normal Weathers are predicted perfectly, where the Cold weather is not perfectly predicted."
      ]
    },
    {
      "cell_type": "code",
      "metadata": {
        "colab": {
          "base_uri": "https://localhost:8080/"
        },
        "id": "3b-v6nPCEd6n",
        "outputId": "b0869462-95e4-4372-b2f5-7c47c66e8d33"
      },
      "source": [
        "from sklearn.metrics import confusion_matrix\n",
        "\n",
        "conf_mat = confusion_matrix(y_test,y_pred, \n",
        "                            labels = ['Normal Normal', 'Normal Wet', 'Normal Dry', 'Cold Normal', 'Cold Wet', 'Cold Dry', 'Warm Normal', 'Warm Wet', 'Warm Dry'],\n",
        "                            normalize='pred')\n",
        "print(conf_mat)"
      ],
      "execution_count": 15,
      "outputs": [
        {
          "output_type": "stream",
          "text": [
            "[[1.         0.         0.         0.         0.         0.\n",
            "  0.         0.         0.        ]\n",
            " [0.         1.         0.         0.         0.         0.\n",
            "  0.         0.         0.        ]\n",
            " [0.         0.         1.         0.         0.         0.\n",
            "  0.         0.         0.        ]\n",
            " [0.         0.         0.         0.         0.         0.\n",
            "  0.         0.         0.        ]\n",
            " [0.         0.         0.         0.         0.         0.16666667\n",
            "  0.         0.         0.        ]\n",
            " [0.         0.         0.         0.         0.         0.83333333\n",
            "  0.         0.         0.        ]\n",
            " [0.         0.         0.         0.         0.         0.\n",
            "  1.         0.         0.        ]\n",
            " [0.         0.         0.         0.         0.         0.\n",
            "  0.         1.         0.        ]\n",
            " [0.         0.         0.         0.         0.         0.\n",
            "  0.         0.         1.        ]]\n"
          ],
          "name": "stdout"
        }
      ]
    },
    {
      "cell_type": "markdown",
      "metadata": {
        "id": "Ka1lsW31k0GM"
      },
      "source": [
        "**Confusion Matrix Heatmap:**\n"
      ]
    },
    {
      "cell_type": "code",
      "metadata": {
        "colab": {
          "base_uri": "https://localhost:8080/",
          "height": 646
        },
        "id": "JZUHZnSfkrBm",
        "outputId": "6c448c7a-fcf5-4039-9869-2ea57ef5c369"
      },
      "source": [
        "fig = plt.figure(figsize=(10,10), dpi =80)\n",
        "ax = fig.add_subplot(111)\n",
        "cax = ax.matshow(conf_mat)\n",
        "plt.title('Confusion matrix of the classifier')\n",
        "fig.colorbar(cax)\n",
        "ax.set_xticklabels([''] + ['Normal Normal', 'Normal Wet', 'Normal Dry', 'Cold Normal', 'Cold Wet', 'Cold Dry', 'Warm Normal', 'Warm Wet', 'Warm Dry'])\n",
        "ax.set_yticklabels([''] + ['Normal Normal', 'Normal Wet', 'Normal Dry', 'Cold Normal', 'Cold Wet', 'Cold Dry', 'Warm Normal', 'Warm Wet', 'Warm Dry'])\n",
        "plt.xlabel('Predicted')\n",
        "plt.ylabel('True')\n",
        "plt.show()"
      ],
      "execution_count": 16,
      "outputs": [
        {
          "output_type": "display_data",
          "data": {
            "image/png": "[encoded data removed]",
            "text/plain": [
              "<Figure size 800x800 with 2 Axes>"
            ]
          },
          "metadata": {
            "tags": [],
            "needs_background": "light"
          }
        }
      ]
    },
    {
      "cell_type": "markdown",
      "metadata": {
        "id": "q0Sd4zTCPCjt"
      },
      "source": [
        "**A Decision tree in Random Forest:**"
      ]
    },
    {
      "cell_type": "code",
      "metadata": {
        "colab": {
          "base_uri": "https://localhost:8080/",
          "height": 822
        },
        "id": "fDjlLBNCgNqO",
        "outputId": "bbf71ef4-d7b3-4a05-9511-13971a534095"
      },
      "source": [
        "plt.figure(figsize= (4,4), dpi = 250)\n",
        "_ = tree.plot_tree(RF.estimators_[5],\n",
        "               feature_names = features, \n",
        "               class_names= class_names,\n",
        "               filled = True);"
      ],
      "execution_count": 30,
      "outputs": [
        {
          "output_type": "display_data",
          "data": {
            "image/png": "[encoded data removed]",
            "text/plain": [
              "<Figure size 1000x1000 with 1 Axes>"
            ]
          },
          "metadata": {
            "tags": [],
            "needs_background": "light"
          }
        }
      ]
    }
  ]
}